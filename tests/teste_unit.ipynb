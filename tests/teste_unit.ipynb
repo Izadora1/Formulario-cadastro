{
 "cells": [
  {
   "cell_type": "code",
   "execution_count": 13,
   "id": "ae157d3f-9bec-4627-985b-446ff81587d9",
   "metadata": {},
   "outputs": [],
   "source": [
    "import pyautogui, time, string, pyperclip\n",
    "\n",
    "def wait():\n",
    "    time.sleep(0.3)\n",
    "\n",
    "pyautogui.hotkey(\"ctrl\",\"t\")\n",
    "wait()\n",
    "pyautogui.write(\"http://127.0.0.1:5500\")\n",
    "wait()\n",
    "pyautogui.press(\"enter\")\n",
    "wait()\n",
    "pyautogui.click(200,200)\n",
    "wait()\n",
    "pyautogui.press(\"tab\", presses=2)\n",
    "\n",
    "carac_especiais = [char for char in string.printable if char not in ['\\t','\\n','\\v','\\f','\\b','\\r']]\n",
    "\n",
    "for char in carac_especiais:\n",
    "    pyperclip.copy(char)\n",
    "    wait()\n",
    "    pyautogui.hotkey('ctrl', 'v')\n",
    "    wait()\n",
    "\n",
    "for char in carac_especiais:\n",
    "    pyautogui.write(char)\n",
    "    wait()\n",
    "\n",
    "emojis = [\"😄\", \"😂\", \"😶‍🌫️\"]\n",
    "for emoji in emojis:\n",
    "    pyperclip.copy(emoji)\n",
    "    wait()\n",
    "    pyautogui.hotkey('ctrl', 'v')\n",
    "    wait()\n",
    "\n",
    "pyautogui.press(\"tab\", presses=10)\n",
    "pyautogui.press(\"enter\")"
   ]
  }
 ],
 "metadata": {
  "kernelspec": {
   "display_name": "Python 3 (ipykernel)",
   "language": "python",
   "name": "python3"
  },
  "language_info": {
   "codemirror_mode": {
    "name": "ipython",
    "version": 3
   },
   "file_extension": ".py",
   "mimetype": "text/x-python",
   "name": "python",
   "nbconvert_exporter": "python",
   "pygments_lexer": "ipython3",
   "version": "3.11.7"
  }
 },
 "nbformat": 4,
 "nbformat_minor": 5
}
